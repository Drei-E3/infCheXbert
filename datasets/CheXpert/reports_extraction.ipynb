{
 "cells": [
  {
   "cell_type": "code",
   "execution_count": 1,
   "metadata": {},
   "outputs": [],
   "source": [
    "import pandas as pd\n",
    "import os\n",
    "import re\n",
    "from Report import *"
   ]
  },
  {
   "attachments": {},
   "cell_type": "markdown",
   "metadata": {},
   "source": [
    "process if would divide the whole reports into several (i, default = 13) parts, every part includes n (default = 25000) entries"
   ]
  },
  {
   "cell_type": "code",
   "execution_count": 2,
   "metadata": {},
   "outputs": [],
   "source": [
    "# 分段 2000 一段，11次\n",
    "# divide, every part includes 25000 entries\n",
    "reports_dfs = [pd.DataFrame() for i in range(13)] # change the number of division here\n",
    "\n",
    "n = 0 # change the number of entries included here\n",
    "i = 0\n",
    "for roots,dirs,files in os.walk('.'):\n",
    "    for file in files:\n",
    "        if file.endswith('.txt'):\n",
    "            if n == 25000:\n",
    "                i+=1\n",
    "                n =0\n",
    "            n += 1\n",
    "            pprefix_pattern = re.compile(r'(./p.*p)')\n",
    "            patient_id = re.sub(pprefix_pattern, '', roots)\n",
    "            study_id = file.removeprefix('s').removesuffix('.txt')\n",
    "            report_entry = Report(roots+r'/'+file, patient_id=patient_id, study_id=study_id)\n",
    "            reports_dfs[i] = pd.concat([reports_dfs[i],report_entry.report_parseto_df()])"
   ]
  },
  {
   "cell_type": "code",
   "execution_count": 3,
   "metadata": {},
   "outputs": [],
   "source": [
    "# exports to csv files\n",
    "i = 1\n",
    "for df in reports_dfs:\n",
    "    df.to_csv('reports-' + str(i) + '.csv')\n",
    "    i += 1"
   ]
  },
  {
   "attachments": {},
   "cell_type": "markdown",
   "metadata": {},
   "source": [
    "process for not dividing"
   ]
  },
  {
   "cell_type": "code",
   "execution_count": 2,
   "metadata": {},
   "outputs": [],
   "source": [
    "reports_dfs= pd.DataFrame()\n",
    "\n",
    "for roots,dirs,files in os.walk('.'):\n",
    "    for file in files:\n",
    "        if file.endswith('.txt'):\n",
    "            pprefix_pattern = re.compile(r'(./p.*p)')\n",
    "            patient_id = re.sub(pprefix_pattern, '', roots)\n",
    "            study_id = file.removeprefix('s').removesuffix('.txt')\n",
    "            report_entry = Report(roots+r'/'+file, patient_id=patient_id, study_id=study_id)\n",
    "            reports_dfs = pd.concat([reports_dfs,report_entry.report_parseto_df()])"
   ]
  },
  {
   "cell_type": "code",
   "execution_count": 3,
   "metadata": {},
   "outputs": [],
   "source": [
    "reports_dfs.to_csv('report_without_labels.csv')"
   ]
  }
 ],
 "metadata": {
  "kernelspec": {
   "display_name": "base",
   "language": "python",
   "name": "python3"
  },
  "language_info": {
   "codemirror_mode": {
    "name": "ipython",
    "version": 3
   },
   "file_extension": ".py",
   "mimetype": "text/x-python",
   "name": "python",
   "nbconvert_exporter": "python",
   "pygments_lexer": "ipython3",
   "version": "3.9.13"
  },
  "orig_nbformat": 4
 },
 "nbformat": 4,
 "nbformat_minor": 2
}
